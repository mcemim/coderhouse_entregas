{
 "cells": [
  {
   "cell_type": "code",
   "execution_count": 1,
   "metadata": {},
   "outputs": [],
   "source": [
    "import numpy as np"
   ]
  },
  {
   "cell_type": "code",
   "execution_count": 7,
   "metadata": {},
   "outputs": [
    {
     "name": "stdout",
     "output_type": "stream",
     "text": [
      "A mediana do array de 100 valores aleatórios entre 0 e 150 é 73.0\n"
     ]
    }
   ],
   "source": [
    "arr_size = 100\n",
    "arr_rand = 150\n",
    "arr_01 = np.random.randint(arr_rand, size=arr_size) # Criação do array de tamanho 100 - aleatório\n",
    "print(f'A mediana do array de {arr_size} valores aleatórios entre 0 e {arr_rand} é {np.median(arr_01)}') #Calcula e imprime a mediana"
   ]
  },
  {
   "cell_type": "code",
   "execution_count": 14,
   "metadata": {},
   "outputs": [],
   "source": [
    "def somaSerie(num_inicial:int, num_final:int):          # Define função, passando o tipo de dado esperado para cada variável\n",
    "    return np.arange(num_inicial, num_final+1).sum()   # Cria o array com os valores inicial e final e soma todos os valores\n",
    "        \n",
    "def fatorial(n:int):            # Define função, passando o tipo de dado esperado para cada variável\n",
    "    return np.math.factorial(n) # Traz como resposta o valor resultante\n",
    "\n",
    "def fatorial_v2(n:int):     # Outra forma de fazer - criar e iterar sobre o array. Menos direta e funcional, mas pode ser útil em alguma aplicação\n",
    "    arr = np.arange(1, n+1) # Cria um array\n",
    "    rslt = 1                # Inicia o valor fatorial\n",
    "    for i in arr:           # Itera sobre o array\n",
    "        rslt = i * rslt\n",
    "    return rslt             # Traz como resposta o valor resultante"
   ]
  },
  {
   "cell_type": "code",
   "execution_count": 11,
   "metadata": {},
   "outputs": [
    {
     "name": "stdout",
     "output_type": "stream",
     "text": [
      "Vamos começar com a soma de uma série.\n",
      "O número inicial é 5\n",
      "O número final é 8\n",
      "A soma de todos os números entre 5 e 8 é igual a 26\n"
     ]
    }
   ],
   "source": [
    "print(\"Vamos começar com a soma de uma série.\")\n",
    "while True: # Roda em loop infinito\n",
    "    try:\n",
    "    # Captura entrada do usuário e tenta transformar em 'int'\n",
    "        inicial = int(input(f'Qual o número inicial?')) \n",
    "        print(f\"O número inicial é {inicial}\")\n",
    "    except ValueError: \n",
    "    # Caso o valor digitado não consiga ser convertido em 'int', retorna mensagem de erro e continua tentando\n",
    "        print(\"Por favor, digite um número...\")\n",
    "        continue\n",
    "    else:\n",
    "    # Caso a condição do 'try' seja satisfeita - O usuário digitou um valor e foi convertido em 'int'\n",
    "        while True: # Novo loop infinito para captura do valor final da série\n",
    "            try:\n",
    "            # Captura entrada do usuário e tenta transformar em 'int'\n",
    "                final = int(input(f'Qual o número final?'))\n",
    "                print(f\"O número final é {final}\")\n",
    "            except ValueError:\n",
    "            # Caso o valor digitado não consiga ser convertido em 'int', retorna mensagem de erro e continua tentando\n",
    "                print(\"Por favor, digite um número...\")\n",
    "                continue\n",
    "            else:\n",
    "            # Caso a condição do 'try' seja satisfeita - O usuário digitou um valor e foi convertido em 'int'\n",
    "                if final > inicial:\n",
    "                # Se o número final for maior do que o inicial, roda a função e sai do loop\n",
    "                    break            \n",
    "                else:\n",
    "                #Caso contrário, exibe uma mensagem de erro e tenta novamente\n",
    "                    print(f\"Por favor, digite um número maior do que {inicial}\")\n",
    "                continue\n",
    "    break\n",
    "    # Finaliza loop infinito e executa a função\n",
    "print(f'A soma de todos os números entre {inicial} e {final} é igual a {somaSerie(inicial, final)}')\n",
    "    "
   ]
  },
  {
   "cell_type": "code",
   "execution_count": 13,
   "metadata": {},
   "outputs": [
    {
     "name": "stdout",
     "output_type": "stream",
     "text": [
      "Vamos calcular o fatorial de um número.\n",
      "O fatorial de 5 é 120\n"
     ]
    }
   ],
   "source": [
    "print(\"Vamos calcular o fatorial de um número.\")\n",
    "while True: # Roda em loop infinito\n",
    "    try:\n",
    "    # Captura entrada do usuário e tenta transformar em 'int'\n",
    "        numero = int(input(f'Qual o número?'))\n",
    "        break\n",
    "    except ValueError:\n",
    "    # Caso o valor digitado não consiga ser convertido em 'int', retorna mensagem de erro e continua tentando\n",
    "        print(\"Por favor, digite um número...\")\n",
    "        continue\n",
    "# Ao sair do loop, executa a função\n",
    "print(f\"O fatorial de {numero} é {fatorial(numero)}\")"
   ]
  },
  {
   "cell_type": "code",
   "execution_count": 15,
   "metadata": {},
   "outputs": [
    {
     "name": "stdout",
     "output_type": "stream",
     "text": [
      "Vamos calcular o fatorial de um número.\n",
      "O fatorial de 5 é 120\n"
     ]
    }
   ],
   "source": [
    "print(\"Vamos calcular o fatorial de um número.\")\n",
    "while True: # Roda em loop infinito\n",
    "    try:\n",
    "    # Captura entrada do usuário e tenta transformar em 'int'\n",
    "        numero = int(input(f'Qual o número?'))\n",
    "        break\n",
    "    except ValueError:\n",
    "    # Caso o valor digitado não consiga ser convertido em 'int', retorna mensagem de erro e continua tentando\n",
    "        print(\"Por favor, digite um número...\")\n",
    "        continue\n",
    "# Ao sair do loop, executa a função\n",
    "print(f\"O fatorial de {numero} é {fatorial_v2(numero)}\")"
   ]
  }
 ],
 "metadata": {
  "kernelspec": {
   "display_name": "Python 3.10.6 ('coderhouse')",
   "language": "python",
   "name": "python3"
  },
  "language_info": {
   "codemirror_mode": {
    "name": "ipython",
    "version": 3
   },
   "file_extension": ".py",
   "mimetype": "text/x-python",
   "name": "python",
   "nbconvert_exporter": "python",
   "pygments_lexer": "ipython3",
   "version": "3.10.6"
  },
  "orig_nbformat": 4,
  "vscode": {
   "interpreter": {
    "hash": "a7867f6d7ec7566ac40acb56b1d059328d8766517cc7aea52d09d1c4a3287a0c"
   }
  }
 },
 "nbformat": 4,
 "nbformat_minor": 2
}
