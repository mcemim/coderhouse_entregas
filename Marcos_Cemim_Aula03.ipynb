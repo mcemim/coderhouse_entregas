{
 "cells": [
  {
   "cell_type": "code",
   "execution_count": 7,
   "metadata": {},
   "outputs": [],
   "source": [
    "def somaSerie(num_inicial:int, num_final:int):      # Define função, passando o tipo de dado esperado para cada variável\n",
    "    resultado = num_inicial                         # Inicia a soma no número inicial passado\n",
    "    for i in range(num_inicial+1, num_final+1, 1):  # Itera sobre a lista de valores entre o inicial e o final, atribuindo esse valor à variável 'i'\n",
    "        resultado += i                              # Soma o novo valor ao resultado\n",
    "    return resultado                                # Traz como resposta o valor final\n",
    "        \n",
    "def fatorial(n:int):        # Define função, passando o tipo de dado esperado para cada variável\n",
    "    resultado = 1           # Inicia o fatorial em 1\n",
    "    for i in range(1,n+1):  # Itera sobre a lista de valores entre 1 e o número informado, atribuindo esse valor à variável 'i'\n",
    "        resultado *= i      # Multiplica o último valor pelo 'i' atual\n",
    "    return resultado        # Traz como resposta o valor resultante"
   ]
  },
  {
   "cell_type": "code",
   "execution_count": 11,
   "metadata": {},
   "outputs": [
    {
     "name": "stdout",
     "output_type": "stream",
     "text": [
      "Vamos começar com a soma de uma série.\n",
      "Por favor, digite um número...\n",
      "Por favor, digite um número...\n",
      "O número inicial é 5\n",
      "O número final é 8\n",
      "A soma de todos os números entre 5 e 8 é igual a 26\n"
     ]
    }
   ],
   "source": [
    "print(\"Vamos começar com a soma de uma série.\")\n",
    "while True: # Roda em loop infinito\n",
    "    try:\n",
    "    # Captura entrada do usuário e tenta transformar em 'int'\n",
    "        inicial = int(input(f'Qual o número inicial?')) \n",
    "        print(f\"O número inicial é {inicial}\")\n",
    "    except ValueError: \n",
    "    # Caso o valor digitado não consiga ser convertido em 'int', retorna mensagem de erro e continua tentando\n",
    "        print(\"Por favor, digite um número...\")\n",
    "        continue\n",
    "    else:\n",
    "    # Caso a condição do 'try' seja satisfeita - O usuário digitou um valor e foi convertido em 'int'\n",
    "        while True: # Novo loop infinito para captura do valor final da série\n",
    "            try:\n",
    "            # Captura entrada do usuário e tenta transformar em 'int'\n",
    "                final = int(input(f'Qual o número final?'))\n",
    "                print(f\"O número final é {final}\")\n",
    "            except ValueError:\n",
    "            # Caso o valor digitado não consiga ser convertido em 'int', retorna mensagem de erro e continua tentando\n",
    "                print(\"Por favor, digite um número...\")\n",
    "                continue\n",
    "            else:\n",
    "            # Caso a condição do 'try' seja satisfeita - O usuário digitou um valor e foi convertido em 'int'\n",
    "                if final > inicial:\n",
    "                # Se o número final for maior do que o inicial, roda a função e sai do loop\n",
    "                    break            \n",
    "                else:\n",
    "                #Caso contrário, exibe uma mensagem de erro e tenta novamente\n",
    "                    print(f\"Por favor, digite um número maior do que {inicial}\")\n",
    "                continue\n",
    "    break\n",
    "    # Finaliza loop infinito e executa a função\n",
    "print(f'A soma de todos os números entre {inicial} e {final} é igual a {somaSerie(inicial, final)}')\n",
    "    "
   ]
  },
  {
   "cell_type": "code",
   "execution_count": 9,
   "metadata": {},
   "outputs": [
    {
     "name": "stdout",
     "output_type": "stream",
     "text": [
      "Vamos calcular o fatorial de um número.\n",
      "Por favor, digite um número...\n",
      "O fatorial de 10 é 3628800\n"
     ]
    }
   ],
   "source": [
    "print(\"Vamos calcular o fatorial de um número.\")\n",
    "while True: # Roda em loop infinito\n",
    "    try:\n",
    "    # Captura entrada do usuário e tenta transformar em 'int'\n",
    "        numero = int(input(f'Qual o número?'))\n",
    "        break\n",
    "    except ValueError:\n",
    "    # Caso o valor digitado não consiga ser convertido em 'int', retorna mensagem de erro e continua tentando\n",
    "        print(\"Por favor, digite um número...\")\n",
    "        continue\n",
    "# Ao sair do loop, executa a função\n",
    "print(f\"O fatorial de {numero} é {fatorial(numero)}\")"
   ]
  }
 ],
 "metadata": {
  "kernelspec": {
   "display_name": "Python 3.10.6 ('coderhouse')",
   "language": "python",
   "name": "python3"
  },
  "language_info": {
   "codemirror_mode": {
    "name": "ipython",
    "version": 3
   },
   "file_extension": ".py",
   "mimetype": "text/x-python",
   "name": "python",
   "nbconvert_exporter": "python",
   "pygments_lexer": "ipython3",
   "version": "3.10.6"
  },
  "orig_nbformat": 4,
  "vscode": {
   "interpreter": {
    "hash": "a7867f6d7ec7566ac40acb56b1d059328d8766517cc7aea52d09d1c4a3287a0c"
   }
  }
 },
 "nbformat": 4,
 "nbformat_minor": 2
}
